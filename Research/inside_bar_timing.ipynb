{
 "cells": [
  {
   "cell_type": "code",
   "execution_count": 1,
   "metadata": {},
   "outputs": [],
   "source": [
    "#provides a finer price detail \n",
    "#instead of using 4 hour candle data we can also use the five minute candle data"
   ]
  },
  {
   "cell_type": "code",
   "execution_count": 23,
   "metadata": {},
   "outputs": [],
   "source": [
    "import pandas as pd\n",
    "import utils\n",
    "import datetime as dt\n",
    "from dateutil.parser import *"
   ]
  },
  {
   "cell_type": "code",
   "execution_count": 24,
   "metadata": {},
   "outputs": [],
   "source": [
    "df_trades = pd.read_pickle(\"USD_JPY_H4_trades.pkl\")"
   ]
  },
  {
   "cell_type": "code",
   "execution_count": 25,
   "metadata": {},
   "outputs": [],
   "source": [
    "pair = \"USD_JPY\""
   ]
  },
  {
   "cell_type": "code",
   "execution_count": 26,
   "metadata": {},
   "outputs": [],
   "source": [
    "df_raw = pd.read_pickle(utils.get_his_data_filename(pair, \"M5\"))"
   ]
  },
  {
   "cell_type": "code",
   "execution_count": 27,
   "metadata": {},
   "outputs": [],
   "source": [
    "non_cols = ['time', 'volume']\n",
    "mod_cols = [x for x in df_raw.columns if x not in non_cols]\n",
    "df_raw[mod_cols] = df_raw[mod_cols].apply(pd.to_numeric)"
   ]
  },
  {
   "cell_type": "code",
   "execution_count": 28,
   "metadata": {},
   "outputs": [],
   "source": [
    "df_trades[\"time\"] = [parse(x) for x in df_trades.time]\n",
    "df_raw[\"time\"] = [parse(x) for x in df_raw.time]"
   ]
  },
  {
   "cell_type": "code",
   "execution_count": 29,
   "metadata": {},
   "outputs": [],
   "source": [
    "df_trades[\"next\"] = df_trades[\"time\"].shift(-1)"
   ]
  },
  {
   "cell_type": "code",
   "execution_count": 30,
   "metadata": {},
   "outputs": [],
   "source": [
    "df_trades[\"trade_end\"] = df_trades.next + dt.timedelta(hours=3, minutes=55)\n",
    "df_trades[\"trade_start\"] = df_trades.time + dt.timedelta(hours=4)"
   ]
  },
  {
   "cell_type": "code",
   "execution_count": 31,
   "metadata": {},
   "outputs": [],
   "source": [
    "df_trades.dropna(inplace=True)\n",
    "df_trades.reset_index(drop=True, inplace=True)"
   ]
  },
  {
   "cell_type": "code",
   "execution_count": 32,
   "metadata": {},
   "outputs": [],
   "source": [
    "def signal_text(signal):\n",
    "    if signal == 1:\n",
    "        return 'BUY'\n",
    "    elif signal == -1:\n",
    "        return 'SELL'\n",
    "    return 'NONE'\n",
    "\n",
    "def triggered(direction, current_price, signal_price):\n",
    "    if direction == 1 and current_price > signal_price:\n",
    "        return True\n",
    "    elif direction == -1 and current_price < signal_price:\n",
    "        return True\n",
    "    return False\n",
    "\n",
    "def end_hit_calc(direction, SL, price, start_price):\n",
    "    delta = price - start_price\n",
    "    full_delta = start_price - SL\n",
    "    fraction = abs(delta / full_delta)\n",
    "   \n",
    "    if direction == 1 and price >= start_price:\n",
    "        return fraction\n",
    "    elif direction == 1 and price < start_price:\n",
    "        return -fraction\n",
    "    elif direction == -1 and price <= start_price:\n",
    "        return fraction\n",
    "    elif direction == -1 and price > start_price:\n",
    "        return -fraction\n",
    "\n",
    "\n",
    "def process_buy(TP, SL, ask_prices, bid_prices, entry_price):\n",
    "    for index, price in enumerate(ask_prices):\n",
    "        if triggered(1, price, entry_price) == True:\n",
    "            for live_price in bid_prices[index:]:\n",
    "                if live_price >= TP:\n",
    "                    return 2.0\n",
    "                elif live_price <= SL:\n",
    "                    return -1.0\n",
    "            return end_hit_calc(1, SL, live_price, entry_price)\n",
    "    return 0.0\n",
    "\n",
    "def process_sell(TP, SL, ask_prices, bid_prices, entry_price):\n",
    "    for index, price in enumerate(bid_prices):\n",
    "        if triggered(-1, price, entry_price) == True:\n",
    "            for live_price in ask_prices[index:]:\n",
    "                if live_price <= TP:\n",
    "                    return 2.0\n",
    "                elif live_price >= SL:\n",
    "                    return -1.0\n",
    "            return end_hit_calc(-1, SL, live_price, entry_price)\n",
    "    return 0.0"
   ]
  },
  {
   "cell_type": "code",
   "execution_count": 33,
   "metadata": {},
   "outputs": [
    {
     "name": "stdout",
     "output_type": "stream",
     "text": [
      "30.360470409060966\n"
     ]
    }
   ],
   "source": [
    "total = 0\n",
    "for index, row in df_trades.iterrows():\n",
    "    m5_data = df_raw[(df_raw.time >= row.trade_start) & (df_raw.time <= row.trade_end)]\n",
    "    #print(f\"{row.time} {signal_text(row.SIGNAL)} {row.ENTRY:.2f} {m5_data.shape}\")\n",
    "    if row.SIGNAL == 1:\n",
    "        r = process_buy(row.TAKEPROFIT, row.STOPLOSS, m5_data.ask_c.values, m5_data.bid_c.values, row.ENTRY)\n",
    "        total += r\n",
    "    else:\n",
    "        r = process_sell(row.TAKEPROFIT, row.STOPLOSS, m5_data.ask_c.values, m5_data.bid_c.values, row.ENTRY)\n",
    "        total += r\n",
    "print(total)"
   ]
  },
  {
   "cell_type": "code",
   "execution_count": null,
   "metadata": {},
   "outputs": [],
   "source": []
  }
 ],
 "metadata": {
  "kernelspec": {
   "display_name": "Python 3.9.12 64-bit ('anaconda3')",
   "language": "python",
   "name": "python3"
  },
  "language_info": {
   "codemirror_mode": {
    "name": "ipython",
    "version": 3
   },
   "file_extension": ".py",
   "mimetype": "text/x-python",
   "name": "python",
   "nbconvert_exporter": "python",
   "pygments_lexer": "ipython3",
   "version": "3.9.12"
  },
  "orig_nbformat": 4,
  "vscode": {
   "interpreter": {
    "hash": "5d972da80f1637ac6fad81138517c0896600874fd6035ff0e33506dc3a4d1953"
   }
  }
 },
 "nbformat": 4,
 "nbformat_minor": 2
}
