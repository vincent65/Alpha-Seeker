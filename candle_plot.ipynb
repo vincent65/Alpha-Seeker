{
 "cells": [
  {
   "cell_type": "code",
   "execution_count": 6,
   "metadata": {},
   "outputs": [],
   "source": [
    "import pandas as pd\n",
    "import utils\n",
    "import plotly.graph_objects as go"
   ]
  },
  {
   "cell_type": "code",
   "execution_count": 7,
   "metadata": {},
   "outputs": [],
   "source": [
    "pair = \"EUR_USD\"\n",
    "granularity = \"H1\""
   ]
  },
  {
   "cell_type": "code",
   "execution_count": 8,
   "metadata": {},
   "outputs": [],
   "source": [
    "df = pd.read_pickle(utils.get_hist_data_filename(pair, granularity))"
   ]
  },
  {
   "cell_type": "code",
   "execution_count": 9,
   "metadata": {},
   "outputs": [
    {
     "data": {
      "text/html": [
       "<div>\n",
       "<style scoped>\n",
       "    .dataframe tbody tr th:only-of-type {\n",
       "        vertical-align: middle;\n",
       "    }\n",
       "\n",
       "    .dataframe tbody tr th {\n",
       "        vertical-align: top;\n",
       "    }\n",
       "\n",
       "    .dataframe thead th {\n",
       "        text-align: right;\n",
       "    }\n",
       "</style>\n",
       "<table border=\"1\" class=\"dataframe\">\n",
       "  <thead>\n",
       "    <tr style=\"text-align: right;\">\n",
       "      <th></th>\n",
       "      <th>time</th>\n",
       "      <th>volume</th>\n",
       "      <th>mid_o</th>\n",
       "      <th>mid_h</th>\n",
       "      <th>mid_l</th>\n",
       "      <th>mid_c</th>\n",
       "      <th>bid_o</th>\n",
       "      <th>bid_h</th>\n",
       "      <th>bid_l</th>\n",
       "      <th>bid_c</th>\n",
       "      <th>ask_o</th>\n",
       "      <th>ask_h</th>\n",
       "      <th>ask_l</th>\n",
       "      <th>ask_c</th>\n",
       "    </tr>\n",
       "  </thead>\n",
       "  <tbody>\n",
       "    <tr>\n",
       "      <th>0</th>\n",
       "      <td>2022-01-19T02:00:00.000000000Z</td>\n",
       "      <td>1800</td>\n",
       "      <td>1.13225</td>\n",
       "      <td>1.13280</td>\n",
       "      <td>1.13201</td>\n",
       "      <td>1.13226</td>\n",
       "      <td>1.13217</td>\n",
       "      <td>1.13274</td>\n",
       "      <td>1.13194</td>\n",
       "      <td>1.13219</td>\n",
       "      <td>1.13233</td>\n",
       "      <td>1.13288</td>\n",
       "      <td>1.13208</td>\n",
       "      <td>1.13232</td>\n",
       "    </tr>\n",
       "    <tr>\n",
       "      <th>1</th>\n",
       "      <td>2022-01-19T03:00:00.000000000Z</td>\n",
       "      <td>1396</td>\n",
       "      <td>1.13224</td>\n",
       "      <td>1.13300</td>\n",
       "      <td>1.13211</td>\n",
       "      <td>1.13276</td>\n",
       "      <td>1.13216</td>\n",
       "      <td>1.13294</td>\n",
       "      <td>1.13204</td>\n",
       "      <td>1.13268</td>\n",
       "      <td>1.13231</td>\n",
       "      <td>1.13307</td>\n",
       "      <td>1.13218</td>\n",
       "      <td>1.13283</td>\n",
       "    </tr>\n",
       "    <tr>\n",
       "      <th>2</th>\n",
       "      <td>2022-01-19T04:00:00.000000000Z</td>\n",
       "      <td>1142</td>\n",
       "      <td>1.13278</td>\n",
       "      <td>1.13316</td>\n",
       "      <td>1.13257</td>\n",
       "      <td>1.13302</td>\n",
       "      <td>1.13270</td>\n",
       "      <td>1.13310</td>\n",
       "      <td>1.13250</td>\n",
       "      <td>1.13294</td>\n",
       "      <td>1.13285</td>\n",
       "      <td>1.13323</td>\n",
       "      <td>1.13264</td>\n",
       "      <td>1.13310</td>\n",
       "    </tr>\n",
       "    <tr>\n",
       "      <th>3</th>\n",
       "      <td>2022-01-19T05:00:00.000000000Z</td>\n",
       "      <td>1116</td>\n",
       "      <td>1.13304</td>\n",
       "      <td>1.13336</td>\n",
       "      <td>1.13285</td>\n",
       "      <td>1.13300</td>\n",
       "      <td>1.13297</td>\n",
       "      <td>1.13329</td>\n",
       "      <td>1.13278</td>\n",
       "      <td>1.13292</td>\n",
       "      <td>1.13310</td>\n",
       "      <td>1.13344</td>\n",
       "      <td>1.13292</td>\n",
       "      <td>1.13307</td>\n",
       "    </tr>\n",
       "    <tr>\n",
       "      <th>4</th>\n",
       "      <td>2022-01-19T06:00:00.000000000Z</td>\n",
       "      <td>1447</td>\n",
       "      <td>1.13302</td>\n",
       "      <td>1.13366</td>\n",
       "      <td>1.13270</td>\n",
       "      <td>1.13343</td>\n",
       "      <td>1.13294</td>\n",
       "      <td>1.13358</td>\n",
       "      <td>1.13263</td>\n",
       "      <td>1.13336</td>\n",
       "      <td>1.13309</td>\n",
       "      <td>1.13374</td>\n",
       "      <td>1.13277</td>\n",
       "      <td>1.13350</td>\n",
       "    </tr>\n",
       "  </tbody>\n",
       "</table>\n",
       "</div>"
      ],
      "text/plain": [
       "                             time  volume    mid_o    mid_h    mid_l    mid_c  \\\n",
       "0  2022-01-19T02:00:00.000000000Z    1800  1.13225  1.13280  1.13201  1.13226   \n",
       "1  2022-01-19T03:00:00.000000000Z    1396  1.13224  1.13300  1.13211  1.13276   \n",
       "2  2022-01-19T04:00:00.000000000Z    1142  1.13278  1.13316  1.13257  1.13302   \n",
       "3  2022-01-19T05:00:00.000000000Z    1116  1.13304  1.13336  1.13285  1.13300   \n",
       "4  2022-01-19T06:00:00.000000000Z    1447  1.13302  1.13366  1.13270  1.13343   \n",
       "\n",
       "     bid_o    bid_h    bid_l    bid_c    ask_o    ask_h    ask_l    ask_c  \n",
       "0  1.13217  1.13274  1.13194  1.13219  1.13233  1.13288  1.13208  1.13232  \n",
       "1  1.13216  1.13294  1.13204  1.13268  1.13231  1.13307  1.13218  1.13283  \n",
       "2  1.13270  1.13310  1.13250  1.13294  1.13285  1.13323  1.13264  1.13310  \n",
       "3  1.13297  1.13329  1.13278  1.13292  1.13310  1.13344  1.13292  1.13307  \n",
       "4  1.13294  1.13358  1.13263  1.13336  1.13309  1.13374  1.13277  1.13350  "
      ]
     },
     "execution_count": 9,
     "metadata": {},
     "output_type": "execute_result"
    }
   ],
   "source": [
    "df.head()"
   ]
  },
  {
   "cell_type": "code",
   "execution_count": 10,
   "metadata": {},
   "outputs": [
    {
     "name": "stdout",
     "output_type": "stream",
     "text": [
      "<class 'pandas.core.frame.DataFrame'>\n",
      "RangeIndex: 3999 entries, 0 to 3998\n",
      "Data columns (total 14 columns):\n",
      " #   Column  Non-Null Count  Dtype  \n",
      "---  ------  --------------  -----  \n",
      " 0   time    3999 non-null   object \n",
      " 1   volume  3999 non-null   int64  \n",
      " 2   mid_o   3999 non-null   float64\n",
      " 3   mid_h   3999 non-null   float64\n",
      " 4   mid_l   3999 non-null   float64\n",
      " 5   mid_c   3999 non-null   float64\n",
      " 6   bid_o   3999 non-null   float64\n",
      " 7   bid_h   3999 non-null   float64\n",
      " 8   bid_l   3999 non-null   float64\n",
      " 9   bid_c   3999 non-null   float64\n",
      " 10  ask_o   3999 non-null   float64\n",
      " 11  ask_h   3999 non-null   float64\n",
      " 12  ask_l   3999 non-null   float64\n",
      " 13  ask_c   3999 non-null   float64\n",
      "dtypes: float64(12), int64(1), object(1)\n",
      "memory usage: 437.5+ KB\n"
     ]
    }
   ],
   "source": [
    "non_cols = ['time', 'volume']\n",
    "mod_cols = [x for x in df.columns if x not in non_cols]\n",
    "df[mod_cols] = df[mod_cols].apply(pd.to_numeric)\n",
    "df.info()"
   ]
  },
  {
   "cell_type": "code",
   "execution_count": 11,
   "metadata": {},
   "outputs": [],
   "source": [
    "#get the last 100 candles\n",
    "df_plot = df.iloc[-100:]"
   ]
  },
  {
   "cell_type": "code",
   "execution_count": 21,
   "metadata": {},
   "outputs": [
    {
     "data": {
      "application/vnd.plotly.v1+json": {
       "config": {
        "plotlyServerURL": "https://plot.ly"
       },
       "data": [
        {
         "close": [
          0.99607,
          0.99656,
          0.99531,
          0.99564,
          0.99224,
          0.99222,
          0.9908,
          0.99157,
          0.99196,
          0.99136,
          0.9913,
          0.99052,
          0.98847,
          0.99072,
          0.99114,
          0.99112,
          0.99237,
          0.99338,
          0.99172,
          0.99236,
          0.99254,
          0.992,
          0.99294,
          0.99294,
          0.99303,
          0.99288,
          0.99309,
          0.99302,
          0.99304,
          0.99417,
          0.995,
          0.99685,
          0.99642,
          0.99588,
          0.99443,
          0.99464,
          0.99595,
          0.99697,
          0.99758,
          0.9958,
          0.99528,
          0.99258,
          0.9924,
          0.99004,
          0.98848,
          0.99042,
          0.9912,
          0.99086,
          0.9899,
          0.99094,
          0.9904,
          0.99059,
          0.99045,
          0.98968,
          0.98972,
          0.98908,
          0.98896,
          0.98846,
          0.98866,
          0.98927,
          0.9893,
          0.99067,
          0.99238,
          0.99076,
          0.99094,
          0.98974,
          0.98784,
          0.9893,
          0.99016,
          0.99486,
          0.99394,
          0.99736,
          0.99972,
          0.99824,
          1.00086,
          1.00072,
          1.00086,
          1.00058,
          0.9998,
          0.99854,
          0.99848,
          0.99875,
          0.99863,
          0.99899,
          0.99978,
          0.99984,
          0.99818,
          0.99978,
          0.99984,
          1.001,
          1.00198,
          1.00003,
          0.99648,
          0.99564,
          0.99536,
          0.99688,
          0.99942,
          0.99916,
          0.99992,
          0.99992
         ],
         "decreasing": {
          "fillcolor": "#CC2E3C",
          "line": {
           "color": "#FF3A4C"
          }
         },
         "high": [
          0.99731,
          0.99682,
          0.99685,
          0.9961,
          0.99352,
          0.99348,
          0.99263,
          0.9929,
          0.99246,
          0.99218,
          0.99186,
          0.99138,
          0.99052,
          0.9914,
          0.99371,
          0.99286,
          0.99282,
          0.99444,
          0.99364,
          0.99276,
          0.99326,
          0.99349,
          0.99323,
          0.99328,
          0.99326,
          0.9936,
          0.99326,
          0.99314,
          0.99318,
          0.99494,
          0.9952,
          0.99692,
          0.9971,
          0.99643,
          0.99591,
          0.99552,
          0.99654,
          0.99794,
          0.99866,
          0.99764,
          0.99604,
          0.99571,
          0.99374,
          0.99299,
          0.99062,
          0.99082,
          0.99292,
          0.99166,
          0.99106,
          0.99119,
          0.99114,
          0.99064,
          0.99091,
          0.9906,
          0.98996,
          0.9904,
          0.98931,
          0.98928,
          0.98868,
          0.98966,
          0.99028,
          0.99132,
          0.99285,
          0.99303,
          0.99143,
          0.99106,
          0.99026,
          0.98952,
          0.99207,
          0.995,
          0.99544,
          0.99757,
          1.0003,
          0.99984,
          1.001,
          1.0011,
          1.00108,
          1.00132,
          1.00057,
          1.00008,
          0.99916,
          0.99903,
          0.9991,
          0.99947,
          1.0001,
          1.0015,
          1.0004,
          0.99979,
          1.00044,
          1.00174,
          1.00294,
          1.00302,
          1.00017,
          0.9977,
          0.99712,
          0.99724,
          1,
          0.99998,
          0.99992,
          0.99998
         ],
         "increasing": {
          "fillcolor": "#23A06B",
          "line": {
           "color": "#2EC886"
          }
         },
         "line": {
          "width": 1
         },
         "low": [
          0.99464,
          0.99582,
          0.99452,
          0.99518,
          0.9916,
          0.99032,
          0.99062,
          0.99076,
          0.99152,
          0.99011,
          0.99109,
          0.9901,
          0.98802,
          0.9878,
          0.98938,
          0.99043,
          0.99072,
          0.99216,
          0.99126,
          0.99142,
          0.99222,
          0.99192,
          0.9918,
          0.99272,
          0.99288,
          0.99278,
          0.99279,
          0.9928,
          0.99268,
          0.99306,
          0.994,
          0.99458,
          0.99613,
          0.99494,
          0.99428,
          0.99442,
          0.99448,
          0.99494,
          0.99646,
          0.99471,
          0.9936,
          0.9922,
          0.9918,
          0.98992,
          0.98816,
          0.9864,
          0.98994,
          0.99034,
          0.98984,
          0.98954,
          0.98998,
          0.99006,
          0.99034,
          0.9896,
          0.98904,
          0.9883,
          0.98808,
          0.98778,
          0.98772,
          0.98798,
          0.98878,
          0.98874,
          0.9892,
          0.99058,
          0.98956,
          0.98938,
          0.98771,
          0.98756,
          0.98834,
          0.98992,
          0.99382,
          0.99389,
          0.99715,
          0.99818,
          0.99816,
          1.00054,
          1.00068,
          1.00044,
          0.99936,
          0.99829,
          0.99846,
          0.99843,
          0.99794,
          0.99862,
          0.99897,
          0.99944,
          0.99762,
          0.99785,
          0.99954,
          0.99926,
          1.00052,
          0.99851,
          0.99306,
          0.9942,
          0.9949,
          0.99444,
          0.99645,
          0.99907,
          0.99912,
          0.99966
         ],
         "opacity": 1,
         "open": [
          0.99696,
          0.99606,
          0.99655,
          0.99529,
          0.99294,
          0.9922,
          0.99222,
          0.99078,
          0.99156,
          0.99197,
          0.99135,
          0.99131,
          0.99052,
          0.98844,
          0.9907,
          0.99111,
          0.99114,
          0.9924,
          0.99336,
          0.99168,
          0.99239,
          0.99252,
          0.99202,
          0.99294,
          0.99296,
          0.99306,
          0.99288,
          0.99308,
          0.99284,
          0.99306,
          0.99417,
          0.99502,
          0.99686,
          0.9964,
          0.99588,
          0.99444,
          0.99462,
          0.99596,
          0.997,
          0.99756,
          0.99578,
          0.99529,
          0.99256,
          0.99239,
          0.99006,
          0.98813,
          0.99043,
          0.99122,
          0.99088,
          0.98991,
          0.99098,
          0.99038,
          0.9908,
          0.99044,
          0.98966,
          0.98972,
          0.98904,
          0.98897,
          0.98846,
          0.98861,
          0.9893,
          0.98932,
          0.99068,
          0.99236,
          0.99076,
          0.99096,
          0.98974,
          0.98784,
          0.9893,
          0.99016,
          0.9949,
          0.99392,
          0.99734,
          0.9997,
          0.9982,
          1.00086,
          1.0009,
          1.00086,
          1.00057,
          0.99982,
          0.99854,
          0.99847,
          0.99875,
          0.99864,
          0.99898,
          0.99975,
          0.99984,
          0.99815,
          0.99978,
          0.99983,
          1.001,
          1.00198,
          0.99996,
          0.99648,
          0.99566,
          0.9954,
          0.9969,
          0.9994,
          0.99914,
          0.99993
         ],
         "type": "candlestick",
         "x": [
          "2022-09-02T17:00:00.000000000Z",
          "2022-09-02T18:00:00.000000000Z",
          "2022-09-02T19:00:00.000000000Z",
          "2022-09-02T20:00:00.000000000Z",
          "2022-09-04T21:00:00.000000000Z",
          "2022-09-04T22:00:00.000000000Z",
          "2022-09-04T23:00:00.000000000Z",
          "2022-09-05T00:00:00.000000000Z",
          "2022-09-05T01:00:00.000000000Z",
          "2022-09-05T02:00:00.000000000Z",
          "2022-09-05T03:00:00.000000000Z",
          "2022-09-05T04:00:00.000000000Z",
          "2022-09-05T05:00:00.000000000Z",
          "2022-09-05T06:00:00.000000000Z",
          "2022-09-05T07:00:00.000000000Z",
          "2022-09-05T08:00:00.000000000Z",
          "2022-09-05T09:00:00.000000000Z",
          "2022-09-05T10:00:00.000000000Z",
          "2022-09-05T11:00:00.000000000Z",
          "2022-09-05T12:00:00.000000000Z",
          "2022-09-05T13:00:00.000000000Z",
          "2022-09-05T14:00:00.000000000Z",
          "2022-09-05T15:00:00.000000000Z",
          "2022-09-05T16:00:00.000000000Z",
          "2022-09-05T17:00:00.000000000Z",
          "2022-09-05T18:00:00.000000000Z",
          "2022-09-05T19:00:00.000000000Z",
          "2022-09-05T20:00:00.000000000Z",
          "2022-09-05T21:00:00.000000000Z",
          "2022-09-05T22:00:00.000000000Z",
          "2022-09-05T23:00:00.000000000Z",
          "2022-09-06T00:00:00.000000000Z",
          "2022-09-06T01:00:00.000000000Z",
          "2022-09-06T02:00:00.000000000Z",
          "2022-09-06T03:00:00.000000000Z",
          "2022-09-06T04:00:00.000000000Z",
          "2022-09-06T05:00:00.000000000Z",
          "2022-09-06T06:00:00.000000000Z",
          "2022-09-06T07:00:00.000000000Z",
          "2022-09-06T08:00:00.000000000Z",
          "2022-09-06T09:00:00.000000000Z",
          "2022-09-06T10:00:00.000000000Z",
          "2022-09-06T11:00:00.000000000Z",
          "2022-09-06T12:00:00.000000000Z",
          "2022-09-06T13:00:00.000000000Z",
          "2022-09-06T14:00:00.000000000Z",
          "2022-09-06T15:00:00.000000000Z",
          "2022-09-06T16:00:00.000000000Z",
          "2022-09-06T17:00:00.000000000Z",
          "2022-09-06T18:00:00.000000000Z",
          "2022-09-06T19:00:00.000000000Z",
          "2022-09-06T20:00:00.000000000Z",
          "2022-09-06T21:00:00.000000000Z",
          "2022-09-06T22:00:00.000000000Z",
          "2022-09-06T23:00:00.000000000Z",
          "2022-09-07T00:00:00.000000000Z",
          "2022-09-07T01:00:00.000000000Z",
          "2022-09-07T02:00:00.000000000Z",
          "2022-09-07T03:00:00.000000000Z",
          "2022-09-07T04:00:00.000000000Z",
          "2022-09-07T05:00:00.000000000Z",
          "2022-09-07T06:00:00.000000000Z",
          "2022-09-07T07:00:00.000000000Z",
          "2022-09-07T08:00:00.000000000Z",
          "2022-09-07T09:00:00.000000000Z",
          "2022-09-07T10:00:00.000000000Z",
          "2022-09-07T11:00:00.000000000Z",
          "2022-09-07T12:00:00.000000000Z",
          "2022-09-07T13:00:00.000000000Z",
          "2022-09-07T14:00:00.000000000Z",
          "2022-09-07T15:00:00.000000000Z",
          "2022-09-07T16:00:00.000000000Z",
          "2022-09-07T17:00:00.000000000Z",
          "2022-09-07T18:00:00.000000000Z",
          "2022-09-07T19:00:00.000000000Z",
          "2022-09-07T20:00:00.000000000Z",
          "2022-09-07T21:00:00.000000000Z",
          "2022-09-07T22:00:00.000000000Z",
          "2022-09-07T23:00:00.000000000Z",
          "2022-09-08T00:00:00.000000000Z",
          "2022-09-08T01:00:00.000000000Z",
          "2022-09-08T02:00:00.000000000Z",
          "2022-09-08T03:00:00.000000000Z",
          "2022-09-08T04:00:00.000000000Z",
          "2022-09-08T05:00:00.000000000Z",
          "2022-09-08T06:00:00.000000000Z",
          "2022-09-08T07:00:00.000000000Z",
          "2022-09-08T08:00:00.000000000Z",
          "2022-09-08T09:00:00.000000000Z",
          "2022-09-08T10:00:00.000000000Z",
          "2022-09-08T11:00:00.000000000Z",
          "2022-09-08T12:00:00.000000000Z",
          "2022-09-08T13:00:00.000000000Z",
          "2022-09-08T14:00:00.000000000Z",
          "2022-09-08T15:00:00.000000000Z",
          "2022-09-08T16:00:00.000000000Z",
          "2022-09-08T17:00:00.000000000Z",
          "2022-09-08T18:00:00.000000000Z",
          "2022-09-08T19:00:00.000000000Z",
          "2022-09-08T20:00:00.000000000Z"
         ]
        }
       ],
       "layout": {
        "font": {
         "color": "#e1e1e1",
         "size": 10
        },
        "height": 400,
        "paper_bgcolor": "#1e1e1e",
        "plot_bgcolor": "#1e1e1e",
        "template": {
         "data": {
          "bar": [
           {
            "error_x": {
             "color": "#2a3f5f"
            },
            "error_y": {
             "color": "#2a3f5f"
            },
            "marker": {
             "line": {
              "color": "#E5ECF6",
              "width": 0.5
             },
             "pattern": {
              "fillmode": "overlay",
              "size": 10,
              "solidity": 0.2
             }
            },
            "type": "bar"
           }
          ],
          "barpolar": [
           {
            "marker": {
             "line": {
              "color": "#E5ECF6",
              "width": 0.5
             },
             "pattern": {
              "fillmode": "overlay",
              "size": 10,
              "solidity": 0.2
             }
            },
            "type": "barpolar"
           }
          ],
          "carpet": [
           {
            "aaxis": {
             "endlinecolor": "#2a3f5f",
             "gridcolor": "white",
             "linecolor": "white",
             "minorgridcolor": "white",
             "startlinecolor": "#2a3f5f"
            },
            "baxis": {
             "endlinecolor": "#2a3f5f",
             "gridcolor": "white",
             "linecolor": "white",
             "minorgridcolor": "white",
             "startlinecolor": "#2a3f5f"
            },
            "type": "carpet"
           }
          ],
          "choropleth": [
           {
            "colorbar": {
             "outlinewidth": 0,
             "ticks": ""
            },
            "type": "choropleth"
           }
          ],
          "contour": [
           {
            "colorbar": {
             "outlinewidth": 0,
             "ticks": ""
            },
            "colorscale": [
             [
              0,
              "#0d0887"
             ],
             [
              0.1111111111111111,
              "#46039f"
             ],
             [
              0.2222222222222222,
              "#7201a8"
             ],
             [
              0.3333333333333333,
              "#9c179e"
             ],
             [
              0.4444444444444444,
              "#bd3786"
             ],
             [
              0.5555555555555556,
              "#d8576b"
             ],
             [
              0.6666666666666666,
              "#ed7953"
             ],
             [
              0.7777777777777778,
              "#fb9f3a"
             ],
             [
              0.8888888888888888,
              "#fdca26"
             ],
             [
              1,
              "#f0f921"
             ]
            ],
            "type": "contour"
           }
          ],
          "contourcarpet": [
           {
            "colorbar": {
             "outlinewidth": 0,
             "ticks": ""
            },
            "type": "contourcarpet"
           }
          ],
          "heatmap": [
           {
            "colorbar": {
             "outlinewidth": 0,
             "ticks": ""
            },
            "colorscale": [
             [
              0,
              "#0d0887"
             ],
             [
              0.1111111111111111,
              "#46039f"
             ],
             [
              0.2222222222222222,
              "#7201a8"
             ],
             [
              0.3333333333333333,
              "#9c179e"
             ],
             [
              0.4444444444444444,
              "#bd3786"
             ],
             [
              0.5555555555555556,
              "#d8576b"
             ],
             [
              0.6666666666666666,
              "#ed7953"
             ],
             [
              0.7777777777777778,
              "#fb9f3a"
             ],
             [
              0.8888888888888888,
              "#fdca26"
             ],
             [
              1,
              "#f0f921"
             ]
            ],
            "type": "heatmap"
           }
          ],
          "heatmapgl": [
           {
            "colorbar": {
             "outlinewidth": 0,
             "ticks": ""
            },
            "colorscale": [
             [
              0,
              "#0d0887"
             ],
             [
              0.1111111111111111,
              "#46039f"
             ],
             [
              0.2222222222222222,
              "#7201a8"
             ],
             [
              0.3333333333333333,
              "#9c179e"
             ],
             [
              0.4444444444444444,
              "#bd3786"
             ],
             [
              0.5555555555555556,
              "#d8576b"
             ],
             [
              0.6666666666666666,
              "#ed7953"
             ],
             [
              0.7777777777777778,
              "#fb9f3a"
             ],
             [
              0.8888888888888888,
              "#fdca26"
             ],
             [
              1,
              "#f0f921"
             ]
            ],
            "type": "heatmapgl"
           }
          ],
          "histogram": [
           {
            "marker": {
             "pattern": {
              "fillmode": "overlay",
              "size": 10,
              "solidity": 0.2
             }
            },
            "type": "histogram"
           }
          ],
          "histogram2d": [
           {
            "colorbar": {
             "outlinewidth": 0,
             "ticks": ""
            },
            "colorscale": [
             [
              0,
              "#0d0887"
             ],
             [
              0.1111111111111111,
              "#46039f"
             ],
             [
              0.2222222222222222,
              "#7201a8"
             ],
             [
              0.3333333333333333,
              "#9c179e"
             ],
             [
              0.4444444444444444,
              "#bd3786"
             ],
             [
              0.5555555555555556,
              "#d8576b"
             ],
             [
              0.6666666666666666,
              "#ed7953"
             ],
             [
              0.7777777777777778,
              "#fb9f3a"
             ],
             [
              0.8888888888888888,
              "#fdca26"
             ],
             [
              1,
              "#f0f921"
             ]
            ],
            "type": "histogram2d"
           }
          ],
          "histogram2dcontour": [
           {
            "colorbar": {
             "outlinewidth": 0,
             "ticks": ""
            },
            "colorscale": [
             [
              0,
              "#0d0887"
             ],
             [
              0.1111111111111111,
              "#46039f"
             ],
             [
              0.2222222222222222,
              "#7201a8"
             ],
             [
              0.3333333333333333,
              "#9c179e"
             ],
             [
              0.4444444444444444,
              "#bd3786"
             ],
             [
              0.5555555555555556,
              "#d8576b"
             ],
             [
              0.6666666666666666,
              "#ed7953"
             ],
             [
              0.7777777777777778,
              "#fb9f3a"
             ],
             [
              0.8888888888888888,
              "#fdca26"
             ],
             [
              1,
              "#f0f921"
             ]
            ],
            "type": "histogram2dcontour"
           }
          ],
          "mesh3d": [
           {
            "colorbar": {
             "outlinewidth": 0,
             "ticks": ""
            },
            "type": "mesh3d"
           }
          ],
          "parcoords": [
           {
            "line": {
             "colorbar": {
              "outlinewidth": 0,
              "ticks": ""
             }
            },
            "type": "parcoords"
           }
          ],
          "pie": [
           {
            "automargin": true,
            "type": "pie"
           }
          ],
          "scatter": [
           {
            "marker": {
             "colorbar": {
              "outlinewidth": 0,
              "ticks": ""
             }
            },
            "type": "scatter"
           }
          ],
          "scatter3d": [
           {
            "line": {
             "colorbar": {
              "outlinewidth": 0,
              "ticks": ""
             }
            },
            "marker": {
             "colorbar": {
              "outlinewidth": 0,
              "ticks": ""
             }
            },
            "type": "scatter3d"
           }
          ],
          "scattercarpet": [
           {
            "marker": {
             "colorbar": {
              "outlinewidth": 0,
              "ticks": ""
             }
            },
            "type": "scattercarpet"
           }
          ],
          "scattergeo": [
           {
            "marker": {
             "colorbar": {
              "outlinewidth": 0,
              "ticks": ""
             }
            },
            "type": "scattergeo"
           }
          ],
          "scattergl": [
           {
            "marker": {
             "colorbar": {
              "outlinewidth": 0,
              "ticks": ""
             }
            },
            "type": "scattergl"
           }
          ],
          "scattermapbox": [
           {
            "marker": {
             "colorbar": {
              "outlinewidth": 0,
              "ticks": ""
             }
            },
            "type": "scattermapbox"
           }
          ],
          "scatterpolar": [
           {
            "marker": {
             "colorbar": {
              "outlinewidth": 0,
              "ticks": ""
             }
            },
            "type": "scatterpolar"
           }
          ],
          "scatterpolargl": [
           {
            "marker": {
             "colorbar": {
              "outlinewidth": 0,
              "ticks": ""
             }
            },
            "type": "scatterpolargl"
           }
          ],
          "scatterternary": [
           {
            "marker": {
             "colorbar": {
              "outlinewidth": 0,
              "ticks": ""
             }
            },
            "type": "scatterternary"
           }
          ],
          "surface": [
           {
            "colorbar": {
             "outlinewidth": 0,
             "ticks": ""
            },
            "colorscale": [
             [
              0,
              "#0d0887"
             ],
             [
              0.1111111111111111,
              "#46039f"
             ],
             [
              0.2222222222222222,
              "#7201a8"
             ],
             [
              0.3333333333333333,
              "#9c179e"
             ],
             [
              0.4444444444444444,
              "#bd3786"
             ],
             [
              0.5555555555555556,
              "#d8576b"
             ],
             [
              0.6666666666666666,
              "#ed7953"
             ],
             [
              0.7777777777777778,
              "#fb9f3a"
             ],
             [
              0.8888888888888888,
              "#fdca26"
             ],
             [
              1,
              "#f0f921"
             ]
            ],
            "type": "surface"
           }
          ],
          "table": [
           {
            "cells": {
             "fill": {
              "color": "#EBF0F8"
             },
             "line": {
              "color": "white"
             }
            },
            "header": {
             "fill": {
              "color": "#C8D4E3"
             },
             "line": {
              "color": "white"
             }
            },
            "type": "table"
           }
          ]
         },
         "layout": {
          "annotationdefaults": {
           "arrowcolor": "#2a3f5f",
           "arrowhead": 0,
           "arrowwidth": 1
          },
          "autotypenumbers": "strict",
          "coloraxis": {
           "colorbar": {
            "outlinewidth": 0,
            "ticks": ""
           }
          },
          "colorscale": {
           "diverging": [
            [
             0,
             "#8e0152"
            ],
            [
             0.1,
             "#c51b7d"
            ],
            [
             0.2,
             "#de77ae"
            ],
            [
             0.3,
             "#f1b6da"
            ],
            [
             0.4,
             "#fde0ef"
            ],
            [
             0.5,
             "#f7f7f7"
            ],
            [
             0.6,
             "#e6f5d0"
            ],
            [
             0.7,
             "#b8e186"
            ],
            [
             0.8,
             "#7fbc41"
            ],
            [
             0.9,
             "#4d9221"
            ],
            [
             1,
             "#276419"
            ]
           ],
           "sequential": [
            [
             0,
             "#0d0887"
            ],
            [
             0.1111111111111111,
             "#46039f"
            ],
            [
             0.2222222222222222,
             "#7201a8"
            ],
            [
             0.3333333333333333,
             "#9c179e"
            ],
            [
             0.4444444444444444,
             "#bd3786"
            ],
            [
             0.5555555555555556,
             "#d8576b"
            ],
            [
             0.6666666666666666,
             "#ed7953"
            ],
            [
             0.7777777777777778,
             "#fb9f3a"
            ],
            [
             0.8888888888888888,
             "#fdca26"
            ],
            [
             1,
             "#f0f921"
            ]
           ],
           "sequentialminus": [
            [
             0,
             "#0d0887"
            ],
            [
             0.1111111111111111,
             "#46039f"
            ],
            [
             0.2222222222222222,
             "#7201a8"
            ],
            [
             0.3333333333333333,
             "#9c179e"
            ],
            [
             0.4444444444444444,
             "#bd3786"
            ],
            [
             0.5555555555555556,
             "#d8576b"
            ],
            [
             0.6666666666666666,
             "#ed7953"
            ],
            [
             0.7777777777777778,
             "#fb9f3a"
            ],
            [
             0.8888888888888888,
             "#fdca26"
            ],
            [
             1,
             "#f0f921"
            ]
           ]
          },
          "colorway": [
           "#636efa",
           "#EF553B",
           "#00cc96",
           "#ab63fa",
           "#FFA15A",
           "#19d3f3",
           "#FF6692",
           "#B6E880",
           "#FF97FF",
           "#FECB52"
          ],
          "font": {
           "color": "#2a3f5f"
          },
          "geo": {
           "bgcolor": "white",
           "lakecolor": "white",
           "landcolor": "#E5ECF6",
           "showlakes": true,
           "showland": true,
           "subunitcolor": "white"
          },
          "hoverlabel": {
           "align": "left"
          },
          "hovermode": "closest",
          "mapbox": {
           "style": "light"
          },
          "paper_bgcolor": "white",
          "plot_bgcolor": "#E5ECF6",
          "polar": {
           "angularaxis": {
            "gridcolor": "white",
            "linecolor": "white",
            "ticks": ""
           },
           "bgcolor": "#E5ECF6",
           "radialaxis": {
            "gridcolor": "white",
            "linecolor": "white",
            "ticks": ""
           }
          },
          "scene": {
           "xaxis": {
            "backgroundcolor": "#E5ECF6",
            "gridcolor": "white",
            "gridwidth": 2,
            "linecolor": "white",
            "showbackground": true,
            "ticks": "",
            "zerolinecolor": "white"
           },
           "yaxis": {
            "backgroundcolor": "#E5ECF6",
            "gridcolor": "white",
            "gridwidth": 2,
            "linecolor": "white",
            "showbackground": true,
            "ticks": "",
            "zerolinecolor": "white"
           },
           "zaxis": {
            "backgroundcolor": "#E5ECF6",
            "gridcolor": "white",
            "gridwidth": 2,
            "linecolor": "white",
            "showbackground": true,
            "ticks": "",
            "zerolinecolor": "white"
           }
          },
          "shapedefaults": {
           "line": {
            "color": "#2a3f5f"
           }
          },
          "ternary": {
           "aaxis": {
            "gridcolor": "white",
            "linecolor": "white",
            "ticks": ""
           },
           "baxis": {
            "gridcolor": "white",
            "linecolor": "white",
            "ticks": ""
           },
           "bgcolor": "#E5ECF6",
           "caxis": {
            "gridcolor": "white",
            "linecolor": "white",
            "ticks": ""
           }
          },
          "title": {
           "x": 0.05
          },
          "xaxis": {
           "automargin": true,
           "gridcolor": "white",
           "linecolor": "white",
           "ticks": "",
           "title": {
            "standoff": 15
           },
           "zerolinecolor": "white",
           "zerolinewidth": 2
          },
          "yaxis": {
           "automargin": true,
           "gridcolor": "white",
           "linecolor": "white",
           "ticks": "",
           "title": {
            "standoff": 15
           },
           "zerolinecolor": "white",
           "zerolinewidth": 2
          }
         }
        },
        "width": 1000,
        "xaxis": {
         "fixedrange": true,
         "gridcolor": "#1f292f",
         "rangeslider": {
          "visible": false
         },
         "showgrid": true
        },
        "yaxis": {
         "gridcolor": "#1f292f",
         "showgrid": true
        }
       }
      }
     },
     "metadata": {},
     "output_type": "display_data"
    }
   ],
   "source": [
    "fig = go.Figure()\n",
    "fig.add_trace(go.Candlestick(\n",
    "    x = df_plot.time, open = df_plot.mid_o, high = df_plot.mid_h, low = df_plot.mid_l, close = df_plot.mid_c,\n",
    "    line=dict(width=1), opacity=1,\n",
    "    increasing_fillcolor=\"#23A06B\",\n",
    "    decreasing_fillcolor=\"#CC2E3C\",\n",
    "    increasing_line_color=\"#2EC886\",\n",
    "    decreasing_line_color=\"#FF3A4C\"\n",
    "))\n",
    "fig.update_layout(width=1000,height=400, font = dict(size=10, color = \"#e1e1e1\"), paper_bgcolor=\"#1e1e1e\", plot_bgcolor=\"#1e1e1e\")\n",
    "fig.update_xaxes(gridcolor = \"#1f292f\", showgrid=True, fixedrange=True, rangeslider=dict(visible=False))\n",
    "fig.update_yaxes(gridcolor= \"#1f292f\", showgrid=True)\n",
    "fig.show()"
   ]
  },
  {
   "cell_type": "code",
   "execution_count": null,
   "metadata": {},
   "outputs": [],
   "source": []
  }
 ],
 "metadata": {
  "kernelspec": {
   "display_name": "Python 3.9.12 64-bit ('anaconda3')",
   "language": "python",
   "name": "python3"
  },
  "language_info": {
   "codemirror_mode": {
    "name": "ipython",
    "version": 3
   },
   "file_extension": ".py",
   "mimetype": "text/x-python",
   "name": "python",
   "nbconvert_exporter": "python",
   "pygments_lexer": "ipython3",
   "version": "3.9.12"
  },
  "orig_nbformat": 4,
  "vscode": {
   "interpreter": {
    "hash": "5d972da80f1637ac6fad81138517c0896600874fd6035ff0e33506dc3a4d1953"
   }
  }
 },
 "nbformat": 4,
 "nbformat_minor": 2
}
