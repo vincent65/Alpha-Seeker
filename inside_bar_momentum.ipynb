{
 "cells": [
  {
   "cell_type": "code",
   "execution_count": 69,
   "metadata": {},
   "outputs": [],
   "source": [
    "import pandas as pd\n",
    "import plotly.graph_objects as go\n",
    "import utils"
   ]
  },
  {
   "cell_type": "code",
   "execution_count": 70,
   "metadata": {},
   "outputs": [],
   "source": [
    "plot_cols = [\"ENTRY\", \"STOPLOSS\", \"TAKEPROFIT\"]\n",
    "plot_colors = [\"#043ef9\", \"#eb5334\", \"#34eb37\"]\n",
    "\n",
    "def plot_candles(df_plot):\n",
    "    fig = go.Figure()\n",
    "    fig.add_trace(go.Candlestick(\n",
    "        x = df_plot.time, open = df_plot.mid_o, high = df_plot.mid_h, low = df_plot.mid_l, close = df_plot.mid_c,\n",
    "        line=dict(width=1), opacity=1,\n",
    "        increasing_fillcolor=\"#23A06B\",\n",
    "        decreasing_fillcolor=\"#CC2E3C\",\n",
    "        increasing_line_color=\"#2EC886\",\n",
    "        decreasing_line_color=\"#FF3A4C\"\n",
    "    ))\n",
    "    for i in range(0,3):\n",
    "        fig.add_trace(go.Scatter(\n",
    "            x=df_buys.time,\n",
    "            y=df_buys[plot_cols[i]],\n",
    "            mode='markers',\n",
    "            marker=dict(color=plot_colors[i],size=12)\n",
    "        ))\n",
    "    for i in range(0,3):    \n",
    "        fig.add_trace(go.Scatter(\n",
    "            x=df_sells.time,\n",
    "            y=df_sells[plot_cols[i]],\n",
    "            mode='markers',\n",
    "            marker=dict(color=plot_colors[i],size=12)\n",
    "        ))\n",
    "    fig.update_layout(width=1000,height=400, font = dict(size=10, color = \"#e1e1e1\"), paper_bgcolor=\"#1e1e1e\", plot_bgcolor=\"#1e1e1e\")\n",
    "    fig.update_xaxes(gridcolor = \"#1f292f\", showgrid=True, fixedrange=True, rangeslider=dict(visible=False), rangebreaks=[dict(bounds=[\"sat\",\"mon\"])])\n",
    "    fig.update_yaxes(gridcolor= \"#1f292f\", showgrid=True)\n",
    "\n",
    "\n",
    "    fig.show()"
   ]
  },
  {
   "cell_type": "code",
   "execution_count": 71,
   "metadata": {},
   "outputs": [],
   "source": [
    "pair = \"USD_JPY\"\n",
    "granularity = 'H4'\n",
    "df_raw = pd.read_pickle(utils.get_his_data_filename(pair, granularity))"
   ]
  },
  {
   "cell_type": "code",
   "execution_count": 72,
   "metadata": {},
   "outputs": [],
   "source": [
    "non_cols = ['time', 'volume']\n",
    "mod_cols = [x for x in df_raw.columns if x not in non_cols]\n",
    "df_raw[mod_cols] = df_raw[mod_cols].apply(pd.to_numeric)"
   ]
  },
  {
   "cell_type": "code",
   "execution_count": 73,
   "metadata": {},
   "outputs": [
    {
     "data": {
      "text/html": [
       "<div>\n",
       "<style scoped>\n",
       "    .dataframe tbody tr th:only-of-type {\n",
       "        vertical-align: middle;\n",
       "    }\n",
       "\n",
       "    .dataframe tbody tr th {\n",
       "        vertical-align: top;\n",
       "    }\n",
       "\n",
       "    .dataframe thead th {\n",
       "        text-align: right;\n",
       "    }\n",
       "</style>\n",
       "<table border=\"1\" class=\"dataframe\">\n",
       "  <thead>\n",
       "    <tr style=\"text-align: right;\">\n",
       "      <th></th>\n",
       "      <th>time</th>\n",
       "      <th>volume</th>\n",
       "      <th>mid_o</th>\n",
       "      <th>mid_h</th>\n",
       "      <th>mid_l</th>\n",
       "      <th>mid_c</th>\n",
       "      <th>bid_o</th>\n",
       "      <th>bid_h</th>\n",
       "      <th>bid_l</th>\n",
       "      <th>bid_c</th>\n",
       "      <th>ask_o</th>\n",
       "      <th>ask_h</th>\n",
       "      <th>ask_l</th>\n",
       "      <th>ask_c</th>\n",
       "    </tr>\n",
       "  </thead>\n",
       "  <tbody>\n",
       "    <tr>\n",
       "      <th>0</th>\n",
       "      <td>2019-01-01T22:00:00.000000000Z</td>\n",
       "      <td>2616</td>\n",
       "      <td>109.590</td>\n",
       "      <td>109.726</td>\n",
       "      <td>109.533</td>\n",
       "      <td>109.598</td>\n",
       "      <td>109.540</td>\n",
       "      <td>109.718</td>\n",
       "      <td>109.493</td>\n",
       "      <td>109.591</td>\n",
       "      <td>109.640</td>\n",
       "      <td>109.736</td>\n",
       "      <td>109.557</td>\n",
       "      <td>109.606</td>\n",
       "    </tr>\n",
       "    <tr>\n",
       "      <th>1</th>\n",
       "      <td>2019-01-02T02:00:00.000000000Z</td>\n",
       "      <td>2710</td>\n",
       "      <td>109.600</td>\n",
       "      <td>109.613</td>\n",
       "      <td>109.299</td>\n",
       "      <td>109.304</td>\n",
       "      <td>109.593</td>\n",
       "      <td>109.606</td>\n",
       "      <td>109.291</td>\n",
       "      <td>109.297</td>\n",
       "      <td>109.608</td>\n",
       "      <td>109.620</td>\n",
       "      <td>109.307</td>\n",
       "      <td>109.312</td>\n",
       "    </tr>\n",
       "    <tr>\n",
       "      <th>2</th>\n",
       "      <td>2019-01-02T06:00:00.000000000Z</td>\n",
       "      <td>6642</td>\n",
       "      <td>109.302</td>\n",
       "      <td>109.348</td>\n",
       "      <td>108.710</td>\n",
       "      <td>108.943</td>\n",
       "      <td>109.294</td>\n",
       "      <td>109.341</td>\n",
       "      <td>108.702</td>\n",
       "      <td>108.937</td>\n",
       "      <td>109.310</td>\n",
       "      <td>109.354</td>\n",
       "      <td>108.717</td>\n",
       "      <td>108.949</td>\n",
       "    </tr>\n",
       "    <tr>\n",
       "      <th>3</th>\n",
       "      <td>2019-01-02T10:00:00.000000000Z</td>\n",
       "      <td>6613</td>\n",
       "      <td>108.946</td>\n",
       "      <td>109.284</td>\n",
       "      <td>108.822</td>\n",
       "      <td>109.191</td>\n",
       "      <td>108.939</td>\n",
       "      <td>109.278</td>\n",
       "      <td>108.813</td>\n",
       "      <td>109.185</td>\n",
       "      <td>108.952</td>\n",
       "      <td>109.291</td>\n",
       "      <td>108.829</td>\n",
       "      <td>109.197</td>\n",
       "    </tr>\n",
       "    <tr>\n",
       "      <th>4</th>\n",
       "      <td>2019-01-02T14:00:00.000000000Z</td>\n",
       "      <td>7780</td>\n",
       "      <td>109.189</td>\n",
       "      <td>109.464</td>\n",
       "      <td>109.177</td>\n",
       "      <td>109.442</td>\n",
       "      <td>109.182</td>\n",
       "      <td>109.457</td>\n",
       "      <td>109.170</td>\n",
       "      <td>109.435</td>\n",
       "      <td>109.196</td>\n",
       "      <td>109.471</td>\n",
       "      <td>109.184</td>\n",
       "      <td>109.449</td>\n",
       "    </tr>\n",
       "  </tbody>\n",
       "</table>\n",
       "</div>"
      ],
      "text/plain": [
       "                             time  volume    mid_o    mid_h    mid_l    mid_c  \\\n",
       "0  2019-01-01T22:00:00.000000000Z    2616  109.590  109.726  109.533  109.598   \n",
       "1  2019-01-02T02:00:00.000000000Z    2710  109.600  109.613  109.299  109.304   \n",
       "2  2019-01-02T06:00:00.000000000Z    6642  109.302  109.348  108.710  108.943   \n",
       "3  2019-01-02T10:00:00.000000000Z    6613  108.946  109.284  108.822  109.191   \n",
       "4  2019-01-02T14:00:00.000000000Z    7780  109.189  109.464  109.177  109.442   \n",
       "\n",
       "     bid_o    bid_h    bid_l    bid_c    ask_o    ask_h    ask_l    ask_c  \n",
       "0  109.540  109.718  109.493  109.591  109.640  109.736  109.557  109.606  \n",
       "1  109.593  109.606  109.291  109.297  109.608  109.620  109.307  109.312  \n",
       "2  109.294  109.341  108.702  108.937  109.310  109.354  108.717  108.949  \n",
       "3  108.939  109.278  108.813  109.185  108.952  109.291  108.829  109.197  \n",
       "4  109.182  109.457  109.170  109.435  109.196  109.471  109.184  109.449  "
      ]
     },
     "execution_count": 73,
     "metadata": {},
     "output_type": "execute_result"
    }
   ],
   "source": [
    "df_raw.head()"
   ]
  },
  {
   "cell_type": "code",
   "execution_count": 74,
   "metadata": {},
   "outputs": [
    {
     "data": {
      "text/plain": [
       "Index(['time', 'volume', 'mid_o', 'mid_h', 'mid_l', 'mid_c', 'bid_o', 'bid_h',\n",
       "       'bid_l', 'bid_c', 'ask_o', 'ask_h', 'ask_l', 'ask_c'],\n",
       "      dtype='object')"
      ]
     },
     "execution_count": 74,
     "metadata": {},
     "output_type": "execute_result"
    }
   ],
   "source": [
    "df_raw.columns"
   ]
  },
  {
   "cell_type": "code",
   "execution_count": 75,
   "metadata": {},
   "outputs": [],
   "source": [
    "SLOSS = 0.4\n",
    "TPROFIT = 0.8\n",
    "ENTRY_PRC = 0.1\n",
    "\n",
    "def direction(row):\n",
    "    if row.mid_c > row.mid_o:\n",
    "        return 1\n",
    "    return -1\n",
    "def get_signal(row):\n",
    "    if row.mid_h_prev > row.mid_h and row.mid_l_prev < row.mid_l:\n",
    "        return row.DIRECTION_prev\n",
    "    return 0\n",
    "\n",
    "def get_entry_stop(row):\n",
    "    if row.SIGNAL == 1:\n",
    "        return (row.RANGE_prev * ENTRY_PRC) + row.mid_h_prev\n",
    "    elif row.SIGNAL == -1:\n",
    "        return row.mid_l_prev - (row.RANGE_prev * ENTRY_PRC)\n",
    "    else:\n",
    "        return 0\n",
    "\n",
    "def get_stop_loss(row):\n",
    "    if row.SIGNAL == 1:\n",
    "        return row.ENTRY - (row.RANGE_prev * SLOSS)\n",
    "    elif row.SIGNAL == -1:\n",
    "        return row.ENTRY + (row.RANGE_prev * SLOSS)\n",
    "    else:\n",
    "        return 0\n",
    "\n",
    "\n",
    "def get_take_profit(row):\n",
    "    if row.SIGNAL == 1:\n",
    "        return row.ENTRY + (row.RANGE_prev * TPROFIT)\n",
    "    elif row.SIGNAL == -1:\n",
    "        return row.ENTRY - (row.RANGE_prev * TPROFIT)\n",
    "    else:\n",
    "        return 0"
   ]
  },
  {
   "cell_type": "code",
   "execution_count": 76,
   "metadata": {},
   "outputs": [],
   "source": [
    "df = df_raw[['time', 'mid_o', 'mid_h', 'mid_l', 'mid_c', 'bid_c', 'ask_c']].copy()\n",
    "df['RANGE'] = df.mid_h - df.mid_l\n",
    "df['mid_h_prev'] = df.mid_h.shift(1)\n",
    "df['mid_l_prev'] = df.mid_l.shift(1)\n",
    "df['RANGE_prev'] = df.RANGE.shift(1)\n",
    "df['DIRECTION'] = df.apply(direction, axis = 1)\n",
    "df['DIRECTION_prev'] = df.DIRECTION.shift(1).fillna(0).astype(int)\n",
    "df.dropna(inplace=True)\n",
    "df['SIGNAL'] = df.apply(get_signal, axis=1)\n",
    "df.reset_index(drop=True, inplace=True)\n",
    "df['ENTRY'] = df.apply(get_entry_stop, axis = 1)\n",
    "df['STOPLOSS'] = df.apply(get_stop_loss, axis = 1)\n",
    "df['TAKEPROFIT'] = df.apply(get_take_profit, axis = 1)"
   ]
  },
  {
   "cell_type": "code",
   "execution_count": 77,
   "metadata": {},
   "outputs": [
    {
     "data": {
      "text/html": [
       "<div>\n",
       "<style scoped>\n",
       "    .dataframe tbody tr th:only-of-type {\n",
       "        vertical-align: middle;\n",
       "    }\n",
       "\n",
       "    .dataframe tbody tr th {\n",
       "        vertical-align: top;\n",
       "    }\n",
       "\n",
       "    .dataframe thead th {\n",
       "        text-align: right;\n",
       "    }\n",
       "</style>\n",
       "<table border=\"1\" class=\"dataframe\">\n",
       "  <thead>\n",
       "    <tr style=\"text-align: right;\">\n",
       "      <th></th>\n",
       "      <th>time</th>\n",
       "      <th>mid_o</th>\n",
       "      <th>mid_h</th>\n",
       "      <th>mid_l</th>\n",
       "      <th>mid_c</th>\n",
       "      <th>bid_c</th>\n",
       "      <th>ask_c</th>\n",
       "      <th>RANGE</th>\n",
       "      <th>mid_h_prev</th>\n",
       "      <th>mid_l_prev</th>\n",
       "      <th>RANGE_prev</th>\n",
       "      <th>DIRECTION</th>\n",
       "      <th>DIRECTION_prev</th>\n",
       "      <th>SIGNAL</th>\n",
       "      <th>ENTRY</th>\n",
       "      <th>STOPLOSS</th>\n",
       "      <th>TAKEPROFIT</th>\n",
       "    </tr>\n",
       "  </thead>\n",
       "  <tbody>\n",
       "    <tr>\n",
       "      <th>0</th>\n",
       "      <td>2019-01-02T02:00:00.000000000Z</td>\n",
       "      <td>109.600</td>\n",
       "      <td>109.613</td>\n",
       "      <td>109.299</td>\n",
       "      <td>109.304</td>\n",
       "      <td>109.297</td>\n",
       "      <td>109.312</td>\n",
       "      <td>0.314</td>\n",
       "      <td>109.726</td>\n",
       "      <td>109.533</td>\n",
       "      <td>0.193</td>\n",
       "      <td>-1</td>\n",
       "      <td>1</td>\n",
       "      <td>0</td>\n",
       "      <td>0.0000</td>\n",
       "      <td>0.0000</td>\n",
       "      <td>0.0000</td>\n",
       "    </tr>\n",
       "    <tr>\n",
       "      <th>1</th>\n",
       "      <td>2019-01-02T06:00:00.000000000Z</td>\n",
       "      <td>109.302</td>\n",
       "      <td>109.348</td>\n",
       "      <td>108.710</td>\n",
       "      <td>108.943</td>\n",
       "      <td>108.937</td>\n",
       "      <td>108.949</td>\n",
       "      <td>0.638</td>\n",
       "      <td>109.613</td>\n",
       "      <td>109.299</td>\n",
       "      <td>0.314</td>\n",
       "      <td>-1</td>\n",
       "      <td>-1</td>\n",
       "      <td>0</td>\n",
       "      <td>0.0000</td>\n",
       "      <td>0.0000</td>\n",
       "      <td>0.0000</td>\n",
       "    </tr>\n",
       "    <tr>\n",
       "      <th>2</th>\n",
       "      <td>2019-01-02T10:00:00.000000000Z</td>\n",
       "      <td>108.946</td>\n",
       "      <td>109.284</td>\n",
       "      <td>108.822</td>\n",
       "      <td>109.191</td>\n",
       "      <td>109.185</td>\n",
       "      <td>109.197</td>\n",
       "      <td>0.462</td>\n",
       "      <td>109.348</td>\n",
       "      <td>108.710</td>\n",
       "      <td>0.638</td>\n",
       "      <td>1</td>\n",
       "      <td>-1</td>\n",
       "      <td>-1</td>\n",
       "      <td>108.6462</td>\n",
       "      <td>108.9014</td>\n",
       "      <td>108.1358</td>\n",
       "    </tr>\n",
       "    <tr>\n",
       "      <th>3</th>\n",
       "      <td>2019-01-02T14:00:00.000000000Z</td>\n",
       "      <td>109.189</td>\n",
       "      <td>109.464</td>\n",
       "      <td>109.177</td>\n",
       "      <td>109.442</td>\n",
       "      <td>109.435</td>\n",
       "      <td>109.449</td>\n",
       "      <td>0.287</td>\n",
       "      <td>109.284</td>\n",
       "      <td>108.822</td>\n",
       "      <td>0.462</td>\n",
       "      <td>1</td>\n",
       "      <td>1</td>\n",
       "      <td>0</td>\n",
       "      <td>0.0000</td>\n",
       "      <td>0.0000</td>\n",
       "      <td>0.0000</td>\n",
       "    </tr>\n",
       "    <tr>\n",
       "      <th>4</th>\n",
       "      <td>2019-01-02T18:00:00.000000000Z</td>\n",
       "      <td>109.444</td>\n",
       "      <td>109.456</td>\n",
       "      <td>108.869</td>\n",
       "      <td>108.887</td>\n",
       "      <td>108.837</td>\n",
       "      <td>108.937</td>\n",
       "      <td>0.587</td>\n",
       "      <td>109.464</td>\n",
       "      <td>109.177</td>\n",
       "      <td>0.287</td>\n",
       "      <td>-1</td>\n",
       "      <td>1</td>\n",
       "      <td>0</td>\n",
       "      <td>0.0000</td>\n",
       "      <td>0.0000</td>\n",
       "      <td>0.0000</td>\n",
       "    </tr>\n",
       "  </tbody>\n",
       "</table>\n",
       "</div>"
      ],
      "text/plain": [
       "                             time    mid_o    mid_h    mid_l    mid_c  \\\n",
       "0  2019-01-02T02:00:00.000000000Z  109.600  109.613  109.299  109.304   \n",
       "1  2019-01-02T06:00:00.000000000Z  109.302  109.348  108.710  108.943   \n",
       "2  2019-01-02T10:00:00.000000000Z  108.946  109.284  108.822  109.191   \n",
       "3  2019-01-02T14:00:00.000000000Z  109.189  109.464  109.177  109.442   \n",
       "4  2019-01-02T18:00:00.000000000Z  109.444  109.456  108.869  108.887   \n",
       "\n",
       "     bid_c    ask_c  RANGE  mid_h_prev  mid_l_prev  RANGE_prev  DIRECTION  \\\n",
       "0  109.297  109.312  0.314     109.726     109.533       0.193         -1   \n",
       "1  108.937  108.949  0.638     109.613     109.299       0.314         -1   \n",
       "2  109.185  109.197  0.462     109.348     108.710       0.638          1   \n",
       "3  109.435  109.449  0.287     109.284     108.822       0.462          1   \n",
       "4  108.837  108.937  0.587     109.464     109.177       0.287         -1   \n",
       "\n",
       "   DIRECTION_prev  SIGNAL     ENTRY  STOPLOSS  TAKEPROFIT  \n",
       "0               1       0    0.0000    0.0000      0.0000  \n",
       "1              -1       0    0.0000    0.0000      0.0000  \n",
       "2              -1      -1  108.6462  108.9014    108.1358  \n",
       "3               1       0    0.0000    0.0000      0.0000  \n",
       "4               1       0    0.0000    0.0000      0.0000  "
      ]
     },
     "execution_count": 77,
     "metadata": {},
     "output_type": "execute_result"
    }
   ],
   "source": [
    "df.head()"
   ]
  },
  {
   "cell_type": "code",
   "execution_count": 78,
   "metadata": {},
   "outputs": [],
   "source": [
    "class Trade():\n",
    "    def __init__(self, row):\n",
    "        self.candle_date = row.time\n",
    "        self.direction = row.SIGNAL\n",
    "        self.entry = row.ENTRY\n",
    "        self.TP = row.TAKEPROFIT\n",
    "        self.SL = row.STOPLOSS\n",
    "        self.running = False\n",
    "        self.result = None\n",
    "        self.stopped = None\n",
    "\n",
    "    def update(self, row):\n",
    "        if self.running == True:\n",
    "            self.update_result(row)\n",
    "        else:\n",
    "            self.check_entry(row)    \n",
    "    \n",
    "    def check_entry(self, row):\n",
    "        if self.direction == 1 and row.mid_c >= self.entry or self.direction == -1 and row.mid_c <= self.entry:\n",
    "            self.index = row.name\n",
    "            self.opened = row.time\n",
    "            self.running = True\n",
    "\n",
    "    def update_result(self, row):\n",
    "        if self.direction == 1:\n",
    "            if row.mid_c >= self.TP:\n",
    "                self.result = 2.0\n",
    "            elif row.mid_c <= self.SL:\n",
    "                self.result = -1.0\n",
    "        else:\n",
    "            if row.mid_c <= self.TP:\n",
    "                self.result = 2.0            \n",
    "            elif row.mid_c >= self.SL:\n",
    "                self.result = -1.0   \n",
    "        \n",
    "        if self.result is not None:\n",
    "            self.running = False\n",
    "            self.stopped = row.time"
   ]
  },
  {
   "cell_type": "code",
   "execution_count": 79,
   "metadata": {},
   "outputs": [],
   "source": [
    "open_trades = []\n",
    "closed_trades = []\n",
    "\n",
    "for index, row in df.iterrows():\n",
    "    for ot in open_trades:\n",
    "        ot.update(row)\n",
    "        if ot.stopped is not None:\n",
    "            closed_trades.append(ot)\n",
    "    \n",
    "    open_trades = [x for x in open_trades if x.stopped is None]\n",
    "\n",
    "    if row.SIGNAL != 0:\n",
    "        open_trades = [x for x in open_trades if x.running == True]\n",
    "        open_trades.append(Trade(row))"
   ]
  },
  {
   "cell_type": "code",
   "execution_count": 80,
   "metadata": {},
   "outputs": [],
   "source": [
    "df_trades = pd.DataFrame.from_dict([vars(x) for x in closed_trades])"
   ]
  },
  {
   "cell_type": "code",
   "execution_count": 81,
   "metadata": {},
   "outputs": [],
   "source": [
    "df[df.SIGNAL != 0].to_pickle(\"USD_JPY_H4_trades.pkl\")"
   ]
  },
  {
   "cell_type": "code",
   "execution_count": 82,
   "metadata": {},
   "outputs": [],
   "source": [
    "df[df.SIGNAL != 0].shape\n",
    "df_plot = df.iloc[200:250]\n",
    "df_buys = df_plot[df_plot.SIGNAL == 1]\n",
    "df_sells = df_plot[df_plot.SIGNAL == -1]\n"
   ]
  },
  {
   "cell_type": "code",
   "execution_count": 83,
   "metadata": {},
   "outputs": [
    {
     "data": {
      "application/vnd.plotly.v1+json": {
       "config": {
        "plotlyServerURL": "https://plot.ly"
       },
       "data": [
        {
         "close": [
          110.592,
          110.561,
          110.614,
          110.518,
          110.622,
          110.768,
          110.659,
          110.521,
          110.606,
          110.873,
          110.873,
          110.787,
          110.797,
          110.669,
          110.854,
          110.71,
          110.725,
          110.702,
          110.642,
          110.803,
          110.707,
          110.707,
          110.758,
          110.838,
          110.692,
          110.578,
          110.682,
          110.68,
          110.632,
          110.691,
          110.809,
          111.192,
          111.056,
          110.917,
          110.788,
          110.84,
          110.684,
          110.72,
          110.585,
          110.604,
          110.572,
          110.428,
          110.693,
          110.946,
          110.994,
          110.894,
          110.808,
          110.788,
          111.096,
          111.329
         ],
         "decreasing": {
          "fillcolor": "#CC2E3C",
          "line": {
           "color": "#FF3A4C"
          }
         },
         "high": [
          110.592,
          110.613,
          110.648,
          110.626,
          110.7,
          110.812,
          110.824,
          110.706,
          110.702,
          110.934,
          110.888,
          110.948,
          110.842,
          110.88,
          110.904,
          110.866,
          110.856,
          110.829,
          110.772,
          110.814,
          110.836,
          110.754,
          110.81,
          110.854,
          110.906,
          110.772,
          110.7,
          110.861,
          110.712,
          110.721,
          110.827,
          111.234,
          111.195,
          111.08,
          110.917,
          110.886,
          110.893,
          110.869,
          110.756,
          110.616,
          110.627,
          110.581,
          110.729,
          110.988,
          111.074,
          111,
          110.936,
          110.854,
          111.134,
          111.44
         ],
         "increasing": {
          "fillcolor": "#23A06B",
          "line": {
           "color": "#2EC886"
          }
         },
         "line": {
          "width": 1
         },
         "low": [
          110.518,
          110.556,
          110.564,
          110.454,
          110.46,
          110.608,
          110.632,
          110.506,
          110.492,
          110.552,
          110.732,
          110.772,
          110.734,
          110.653,
          110.626,
          110.593,
          110.7,
          110.665,
          110.568,
          110.572,
          110.663,
          110.628,
          110.704,
          110.71,
          110.664,
          110.557,
          110.574,
          110.649,
          110.586,
          110.58,
          110.663,
          110.758,
          111.018,
          110.914,
          110.754,
          110.758,
          110.668,
          110.678,
          110.422,
          110.516,
          110.553,
          110.355,
          110.409,
          110.689,
          110.939,
          110.82,
          110.8,
          110.662,
          110.728,
          111.022
         ],
         "opacity": 1,
         "open": [
          110.541,
          110.589,
          110.564,
          110.606,
          110.52,
          110.624,
          110.77,
          110.656,
          110.524,
          110.633,
          110.87,
          110.876,
          110.79,
          110.794,
          110.672,
          110.85,
          110.712,
          110.727,
          110.705,
          110.644,
          110.8,
          110.707,
          110.709,
          110.755,
          110.84,
          110.688,
          110.581,
          110.66,
          110.682,
          110.629,
          110.689,
          110.811,
          111.194,
          111.036,
          110.915,
          110.784,
          110.842,
          110.686,
          110.718,
          110.58,
          110.606,
          110.574,
          110.431,
          110.696,
          110.948,
          110.998,
          110.896,
          110.81,
          110.791,
          111.098
         ],
         "type": "candlestick",
         "x": [
          "2019-02-18T10:00:00.000000000Z",
          "2019-02-18T14:00:00.000000000Z",
          "2019-02-18T18:00:00.000000000Z",
          "2019-02-18T22:00:00.000000000Z",
          "2019-02-19T02:00:00.000000000Z",
          "2019-02-19T06:00:00.000000000Z",
          "2019-02-19T10:00:00.000000000Z",
          "2019-02-19T14:00:00.000000000Z",
          "2019-02-19T18:00:00.000000000Z",
          "2019-02-19T22:00:00.000000000Z",
          "2019-02-20T02:00:00.000000000Z",
          "2019-02-20T06:00:00.000000000Z",
          "2019-02-20T10:00:00.000000000Z",
          "2019-02-20T14:00:00.000000000Z",
          "2019-02-20T18:00:00.000000000Z",
          "2019-02-20T22:00:00.000000000Z",
          "2019-02-21T02:00:00.000000000Z",
          "2019-02-21T06:00:00.000000000Z",
          "2019-02-21T10:00:00.000000000Z",
          "2019-02-21T14:00:00.000000000Z",
          "2019-02-21T18:00:00.000000000Z",
          "2019-02-21T22:00:00.000000000Z",
          "2019-02-22T02:00:00.000000000Z",
          "2019-02-22T06:00:00.000000000Z",
          "2019-02-22T10:00:00.000000000Z",
          "2019-02-22T14:00:00.000000000Z",
          "2019-02-22T18:00:00.000000000Z",
          "2019-02-24T22:00:00.000000000Z",
          "2019-02-25T02:00:00.000000000Z",
          "2019-02-25T06:00:00.000000000Z",
          "2019-02-25T10:00:00.000000000Z",
          "2019-02-25T14:00:00.000000000Z",
          "2019-02-25T18:00:00.000000000Z",
          "2019-02-25T22:00:00.000000000Z",
          "2019-02-26T02:00:00.000000000Z",
          "2019-02-26T06:00:00.000000000Z",
          "2019-02-26T10:00:00.000000000Z",
          "2019-02-26T14:00:00.000000000Z",
          "2019-02-26T18:00:00.000000000Z",
          "2019-02-26T22:00:00.000000000Z",
          "2019-02-27T02:00:00.000000000Z",
          "2019-02-27T06:00:00.000000000Z",
          "2019-02-27T10:00:00.000000000Z",
          "2019-02-27T14:00:00.000000000Z",
          "2019-02-27T18:00:00.000000000Z",
          "2019-02-27T22:00:00.000000000Z",
          "2019-02-28T02:00:00.000000000Z",
          "2019-02-28T06:00:00.000000000Z",
          "2019-02-28T10:00:00.000000000Z",
          "2019-02-28T14:00:00.000000000Z"
         ]
        },
        {
         "marker": {
          "color": "#043ef9",
          "size": 12
         },
         "mode": "markers",
         "type": "scatter",
         "x": [
          "2019-02-20T02:00:00.000000000Z",
          "2019-02-25T18:00:00.000000000Z"
         ],
         "y": [
          110.9722,
          111.2816
         ]
        },
        {
         "marker": {
          "color": "#eb5334",
          "size": 12
         },
         "mode": "markers",
         "type": "scatter",
         "x": [
          "2019-02-20T02:00:00.000000000Z",
          "2019-02-25T18:00:00.000000000Z"
         ],
         "y": [
          110.8194,
          111.0912
         ]
        },
        {
         "marker": {
          "color": "#34eb37",
          "size": 12
         },
         "mode": "markers",
         "type": "scatter",
         "x": [
          "2019-02-20T02:00:00.000000000Z",
          "2019-02-25T18:00:00.000000000Z"
         ],
         "y": [
          111.2778,
          111.66239999999999
         ]
        },
        {
         "marker": {
          "color": "#043ef9",
          "size": 12
         },
         "mode": "markers",
         "type": "scatter",
         "x": [
          "2019-02-21T02:00:00.000000000Z",
          "2019-02-22T18:00:00.000000000Z",
          "2019-02-26T06:00:00.000000000Z",
          "2019-02-26T14:00:00.000000000Z",
          "2019-02-26T22:00:00.000000000Z"
         ],
         "y": [
          110.5657,
          110.5355,
          110.7377,
          110.64550000000001,
          110.3886
         ]
        },
        {
         "marker": {
          "color": "#eb5334",
          "size": 12
         },
         "mode": "markers",
         "type": "scatter",
         "x": [
          "2019-02-21T02:00:00.000000000Z",
          "2019-02-22T18:00:00.000000000Z",
          "2019-02-26T06:00:00.000000000Z",
          "2019-02-26T14:00:00.000000000Z",
          "2019-02-26T22:00:00.000000000Z"
         ],
         "y": [
          110.67490000000001,
          110.6215,
          110.80290000000001,
          110.73550000000002,
          110.5222
         ]
        },
        {
         "marker": {
          "color": "#34eb37",
          "size": 12
         },
         "mode": "markers",
         "type": "scatter",
         "x": [
          "2019-02-21T02:00:00.000000000Z",
          "2019-02-22T18:00:00.000000000Z",
          "2019-02-26T06:00:00.000000000Z",
          "2019-02-26T14:00:00.000000000Z",
          "2019-02-26T22:00:00.000000000Z"
         ],
         "y": [
          110.3473,
          110.3635,
          110.60730000000001,
          110.46550000000002,
          110.1214
         ]
        }
       ],
       "layout": {
        "font": {
         "color": "#e1e1e1",
         "size": 10
        },
        "height": 400,
        "paper_bgcolor": "#1e1e1e",
        "plot_bgcolor": "#1e1e1e",
        "template": {
         "data": {
          "bar": [
           {
            "error_x": {
             "color": "#2a3f5f"
            },
            "error_y": {
             "color": "#2a3f5f"
            },
            "marker": {
             "line": {
              "color": "#E5ECF6",
              "width": 0.5
             },
             "pattern": {
              "fillmode": "overlay",
              "size": 10,
              "solidity": 0.2
             }
            },
            "type": "bar"
           }
          ],
          "barpolar": [
           {
            "marker": {
             "line": {
              "color": "#E5ECF6",
              "width": 0.5
             },
             "pattern": {
              "fillmode": "overlay",
              "size": 10,
              "solidity": 0.2
             }
            },
            "type": "barpolar"
           }
          ],
          "carpet": [
           {
            "aaxis": {
             "endlinecolor": "#2a3f5f",
             "gridcolor": "white",
             "linecolor": "white",
             "minorgridcolor": "white",
             "startlinecolor": "#2a3f5f"
            },
            "baxis": {
             "endlinecolor": "#2a3f5f",
             "gridcolor": "white",
             "linecolor": "white",
             "minorgridcolor": "white",
             "startlinecolor": "#2a3f5f"
            },
            "type": "carpet"
           }
          ],
          "choropleth": [
           {
            "colorbar": {
             "outlinewidth": 0,
             "ticks": ""
            },
            "type": "choropleth"
           }
          ],
          "contour": [
           {
            "colorbar": {
             "outlinewidth": 0,
             "ticks": ""
            },
            "colorscale": [
             [
              0,
              "#0d0887"
             ],
             [
              0.1111111111111111,
              "#46039f"
             ],
             [
              0.2222222222222222,
              "#7201a8"
             ],
             [
              0.3333333333333333,
              "#9c179e"
             ],
             [
              0.4444444444444444,
              "#bd3786"
             ],
             [
              0.5555555555555556,
              "#d8576b"
             ],
             [
              0.6666666666666666,
              "#ed7953"
             ],
             [
              0.7777777777777778,
              "#fb9f3a"
             ],
             [
              0.8888888888888888,
              "#fdca26"
             ],
             [
              1,
              "#f0f921"
             ]
            ],
            "type": "contour"
           }
          ],
          "contourcarpet": [
           {
            "colorbar": {
             "outlinewidth": 0,
             "ticks": ""
            },
            "type": "contourcarpet"
           }
          ],
          "heatmap": [
           {
            "colorbar": {
             "outlinewidth": 0,
             "ticks": ""
            },
            "colorscale": [
             [
              0,
              "#0d0887"
             ],
             [
              0.1111111111111111,
              "#46039f"
             ],
             [
              0.2222222222222222,
              "#7201a8"
             ],
             [
              0.3333333333333333,
              "#9c179e"
             ],
             [
              0.4444444444444444,
              "#bd3786"
             ],
             [
              0.5555555555555556,
              "#d8576b"
             ],
             [
              0.6666666666666666,
              "#ed7953"
             ],
             [
              0.7777777777777778,
              "#fb9f3a"
             ],
             [
              0.8888888888888888,
              "#fdca26"
             ],
             [
              1,
              "#f0f921"
             ]
            ],
            "type": "heatmap"
           }
          ],
          "heatmapgl": [
           {
            "colorbar": {
             "outlinewidth": 0,
             "ticks": ""
            },
            "colorscale": [
             [
              0,
              "#0d0887"
             ],
             [
              0.1111111111111111,
              "#46039f"
             ],
             [
              0.2222222222222222,
              "#7201a8"
             ],
             [
              0.3333333333333333,
              "#9c179e"
             ],
             [
              0.4444444444444444,
              "#bd3786"
             ],
             [
              0.5555555555555556,
              "#d8576b"
             ],
             [
              0.6666666666666666,
              "#ed7953"
             ],
             [
              0.7777777777777778,
              "#fb9f3a"
             ],
             [
              0.8888888888888888,
              "#fdca26"
             ],
             [
              1,
              "#f0f921"
             ]
            ],
            "type": "heatmapgl"
           }
          ],
          "histogram": [
           {
            "marker": {
             "pattern": {
              "fillmode": "overlay",
              "size": 10,
              "solidity": 0.2
             }
            },
            "type": "histogram"
           }
          ],
          "histogram2d": [
           {
            "colorbar": {
             "outlinewidth": 0,
             "ticks": ""
            },
            "colorscale": [
             [
              0,
              "#0d0887"
             ],
             [
              0.1111111111111111,
              "#46039f"
             ],
             [
              0.2222222222222222,
              "#7201a8"
             ],
             [
              0.3333333333333333,
              "#9c179e"
             ],
             [
              0.4444444444444444,
              "#bd3786"
             ],
             [
              0.5555555555555556,
              "#d8576b"
             ],
             [
              0.6666666666666666,
              "#ed7953"
             ],
             [
              0.7777777777777778,
              "#fb9f3a"
             ],
             [
              0.8888888888888888,
              "#fdca26"
             ],
             [
              1,
              "#f0f921"
             ]
            ],
            "type": "histogram2d"
           }
          ],
          "histogram2dcontour": [
           {
            "colorbar": {
             "outlinewidth": 0,
             "ticks": ""
            },
            "colorscale": [
             [
              0,
              "#0d0887"
             ],
             [
              0.1111111111111111,
              "#46039f"
             ],
             [
              0.2222222222222222,
              "#7201a8"
             ],
             [
              0.3333333333333333,
              "#9c179e"
             ],
             [
              0.4444444444444444,
              "#bd3786"
             ],
             [
              0.5555555555555556,
              "#d8576b"
             ],
             [
              0.6666666666666666,
              "#ed7953"
             ],
             [
              0.7777777777777778,
              "#fb9f3a"
             ],
             [
              0.8888888888888888,
              "#fdca26"
             ],
             [
              1,
              "#f0f921"
             ]
            ],
            "type": "histogram2dcontour"
           }
          ],
          "mesh3d": [
           {
            "colorbar": {
             "outlinewidth": 0,
             "ticks": ""
            },
            "type": "mesh3d"
           }
          ],
          "parcoords": [
           {
            "line": {
             "colorbar": {
              "outlinewidth": 0,
              "ticks": ""
             }
            },
            "type": "parcoords"
           }
          ],
          "pie": [
           {
            "automargin": true,
            "type": "pie"
           }
          ],
          "scatter": [
           {
            "marker": {
             "colorbar": {
              "outlinewidth": 0,
              "ticks": ""
             }
            },
            "type": "scatter"
           }
          ],
          "scatter3d": [
           {
            "line": {
             "colorbar": {
              "outlinewidth": 0,
              "ticks": ""
             }
            },
            "marker": {
             "colorbar": {
              "outlinewidth": 0,
              "ticks": ""
             }
            },
            "type": "scatter3d"
           }
          ],
          "scattercarpet": [
           {
            "marker": {
             "colorbar": {
              "outlinewidth": 0,
              "ticks": ""
             }
            },
            "type": "scattercarpet"
           }
          ],
          "scattergeo": [
           {
            "marker": {
             "colorbar": {
              "outlinewidth": 0,
              "ticks": ""
             }
            },
            "type": "scattergeo"
           }
          ],
          "scattergl": [
           {
            "marker": {
             "colorbar": {
              "outlinewidth": 0,
              "ticks": ""
             }
            },
            "type": "scattergl"
           }
          ],
          "scattermapbox": [
           {
            "marker": {
             "colorbar": {
              "outlinewidth": 0,
              "ticks": ""
             }
            },
            "type": "scattermapbox"
           }
          ],
          "scatterpolar": [
           {
            "marker": {
             "colorbar": {
              "outlinewidth": 0,
              "ticks": ""
             }
            },
            "type": "scatterpolar"
           }
          ],
          "scatterpolargl": [
           {
            "marker": {
             "colorbar": {
              "outlinewidth": 0,
              "ticks": ""
             }
            },
            "type": "scatterpolargl"
           }
          ],
          "scatterternary": [
           {
            "marker": {
             "colorbar": {
              "outlinewidth": 0,
              "ticks": ""
             }
            },
            "type": "scatterternary"
           }
          ],
          "surface": [
           {
            "colorbar": {
             "outlinewidth": 0,
             "ticks": ""
            },
            "colorscale": [
             [
              0,
              "#0d0887"
             ],
             [
              0.1111111111111111,
              "#46039f"
             ],
             [
              0.2222222222222222,
              "#7201a8"
             ],
             [
              0.3333333333333333,
              "#9c179e"
             ],
             [
              0.4444444444444444,
              "#bd3786"
             ],
             [
              0.5555555555555556,
              "#d8576b"
             ],
             [
              0.6666666666666666,
              "#ed7953"
             ],
             [
              0.7777777777777778,
              "#fb9f3a"
             ],
             [
              0.8888888888888888,
              "#fdca26"
             ],
             [
              1,
              "#f0f921"
             ]
            ],
            "type": "surface"
           }
          ],
          "table": [
           {
            "cells": {
             "fill": {
              "color": "#EBF0F8"
             },
             "line": {
              "color": "white"
             }
            },
            "header": {
             "fill": {
              "color": "#C8D4E3"
             },
             "line": {
              "color": "white"
             }
            },
            "type": "table"
           }
          ]
         },
         "layout": {
          "annotationdefaults": {
           "arrowcolor": "#2a3f5f",
           "arrowhead": 0,
           "arrowwidth": 1
          },
          "autotypenumbers": "strict",
          "coloraxis": {
           "colorbar": {
            "outlinewidth": 0,
            "ticks": ""
           }
          },
          "colorscale": {
           "diverging": [
            [
             0,
             "#8e0152"
            ],
            [
             0.1,
             "#c51b7d"
            ],
            [
             0.2,
             "#de77ae"
            ],
            [
             0.3,
             "#f1b6da"
            ],
            [
             0.4,
             "#fde0ef"
            ],
            [
             0.5,
             "#f7f7f7"
            ],
            [
             0.6,
             "#e6f5d0"
            ],
            [
             0.7,
             "#b8e186"
            ],
            [
             0.8,
             "#7fbc41"
            ],
            [
             0.9,
             "#4d9221"
            ],
            [
             1,
             "#276419"
            ]
           ],
           "sequential": [
            [
             0,
             "#0d0887"
            ],
            [
             0.1111111111111111,
             "#46039f"
            ],
            [
             0.2222222222222222,
             "#7201a8"
            ],
            [
             0.3333333333333333,
             "#9c179e"
            ],
            [
             0.4444444444444444,
             "#bd3786"
            ],
            [
             0.5555555555555556,
             "#d8576b"
            ],
            [
             0.6666666666666666,
             "#ed7953"
            ],
            [
             0.7777777777777778,
             "#fb9f3a"
            ],
            [
             0.8888888888888888,
             "#fdca26"
            ],
            [
             1,
             "#f0f921"
            ]
           ],
           "sequentialminus": [
            [
             0,
             "#0d0887"
            ],
            [
             0.1111111111111111,
             "#46039f"
            ],
            [
             0.2222222222222222,
             "#7201a8"
            ],
            [
             0.3333333333333333,
             "#9c179e"
            ],
            [
             0.4444444444444444,
             "#bd3786"
            ],
            [
             0.5555555555555556,
             "#d8576b"
            ],
            [
             0.6666666666666666,
             "#ed7953"
            ],
            [
             0.7777777777777778,
             "#fb9f3a"
            ],
            [
             0.8888888888888888,
             "#fdca26"
            ],
            [
             1,
             "#f0f921"
            ]
           ]
          },
          "colorway": [
           "#636efa",
           "#EF553B",
           "#00cc96",
           "#ab63fa",
           "#FFA15A",
           "#19d3f3",
           "#FF6692",
           "#B6E880",
           "#FF97FF",
           "#FECB52"
          ],
          "font": {
           "color": "#2a3f5f"
          },
          "geo": {
           "bgcolor": "white",
           "lakecolor": "white",
           "landcolor": "#E5ECF6",
           "showlakes": true,
           "showland": true,
           "subunitcolor": "white"
          },
          "hoverlabel": {
           "align": "left"
          },
          "hovermode": "closest",
          "mapbox": {
           "style": "light"
          },
          "paper_bgcolor": "white",
          "plot_bgcolor": "#E5ECF6",
          "polar": {
           "angularaxis": {
            "gridcolor": "white",
            "linecolor": "white",
            "ticks": ""
           },
           "bgcolor": "#E5ECF6",
           "radialaxis": {
            "gridcolor": "white",
            "linecolor": "white",
            "ticks": ""
           }
          },
          "scene": {
           "xaxis": {
            "backgroundcolor": "#E5ECF6",
            "gridcolor": "white",
            "gridwidth": 2,
            "linecolor": "white",
            "showbackground": true,
            "ticks": "",
            "zerolinecolor": "white"
           },
           "yaxis": {
            "backgroundcolor": "#E5ECF6",
            "gridcolor": "white",
            "gridwidth": 2,
            "linecolor": "white",
            "showbackground": true,
            "ticks": "",
            "zerolinecolor": "white"
           },
           "zaxis": {
            "backgroundcolor": "#E5ECF6",
            "gridcolor": "white",
            "gridwidth": 2,
            "linecolor": "white",
            "showbackground": true,
            "ticks": "",
            "zerolinecolor": "white"
           }
          },
          "shapedefaults": {
           "line": {
            "color": "#2a3f5f"
           }
          },
          "ternary": {
           "aaxis": {
            "gridcolor": "white",
            "linecolor": "white",
            "ticks": ""
           },
           "baxis": {
            "gridcolor": "white",
            "linecolor": "white",
            "ticks": ""
           },
           "bgcolor": "#E5ECF6",
           "caxis": {
            "gridcolor": "white",
            "linecolor": "white",
            "ticks": ""
           }
          },
          "title": {
           "x": 0.05
          },
          "xaxis": {
           "automargin": true,
           "gridcolor": "white",
           "linecolor": "white",
           "ticks": "",
           "title": {
            "standoff": 15
           },
           "zerolinecolor": "white",
           "zerolinewidth": 2
          },
          "yaxis": {
           "automargin": true,
           "gridcolor": "white",
           "linecolor": "white",
           "ticks": "",
           "title": {
            "standoff": 15
           },
           "zerolinecolor": "white",
           "zerolinewidth": 2
          }
         }
        },
        "width": 1000,
        "xaxis": {
         "fixedrange": true,
         "gridcolor": "#1f292f",
         "rangebreaks": [
          {
           "bounds": [
            "sat",
            "mon"
           ]
          }
         ],
         "rangeslider": {
          "visible": false
         },
         "showgrid": true
        },
        "yaxis": {
         "gridcolor": "#1f292f",
         "showgrid": true
        }
       }
      }
     },
     "metadata": {},
     "output_type": "display_data"
    }
   ],
   "source": [
    "plot_candles(df_plot)"
   ]
  },
  {
   "cell_type": "code",
   "execution_count": 84,
   "metadata": {},
   "outputs": [
    {
     "data": {
      "text/plain": [
       "200.0"
      ]
     },
     "execution_count": 84,
     "metadata": {},
     "output_type": "execute_result"
    }
   ],
   "source": [
    "df_trades[\"result\"].sum()"
   ]
  },
  {
   "cell_type": "code",
   "execution_count": null,
   "metadata": {},
   "outputs": [],
   "source": []
  }
 ],
 "metadata": {
  "kernelspec": {
   "display_name": "Python 3.9.12 64-bit ('anaconda3')",
   "language": "python",
   "name": "python3"
  },
  "language_info": {
   "codemirror_mode": {
    "name": "ipython",
    "version": 3
   },
   "file_extension": ".py",
   "mimetype": "text/x-python",
   "name": "python",
   "nbconvert_exporter": "python",
   "pygments_lexer": "ipython3",
   "version": "3.9.12"
  },
  "orig_nbformat": 4,
  "vscode": {
   "interpreter": {
    "hash": "5d972da80f1637ac6fad81138517c0896600874fd6035ff0e33506dc3a4d1953"
   }
  }
 },
 "nbformat": 4,
 "nbformat_minor": 2
}
