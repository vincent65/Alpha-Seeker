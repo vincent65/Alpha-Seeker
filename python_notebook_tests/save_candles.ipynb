{
 "cells": [
  {
   "cell_type": "code",
   "execution_count": 6,
   "metadata": {},
   "outputs": [],
   "source": [
    "import requests\n",
    "from .. import defs\n",
    "import pandas as pd\n"
   ]
  },
  {
   "cell_type": "code",
   "execution_count": 7,
   "metadata": {},
   "outputs": [],
   "source": [
    "session = requests.Session()"
   ]
  },
  {
   "cell_type": "code",
   "execution_count": 8,
   "metadata": {},
   "outputs": [],
   "source": [
    "ins_df = pd.read_pickle(\"instruments.pkl\")"
   ]
  },
  {
   "cell_type": "code",
   "execution_count": 9,
   "metadata": {},
   "outputs": [],
   "source": [
    "#primary candle code\n",
    "\n",
    "our_curr = [\"EUR\", \"USD\", \"GBP\", \"JPY\", \"CHF\", \"NZD\", \"CAD\"]\n",
    "def fetch_candles(pair_name, count, granularity):\n",
    "    url = f\"{defs.OANDA_URL}/instruments/{pair_name}/candles\"\n",
    "    params = dict(\n",
    "        count = count,\n",
    "        granularity = granularity,\n",
    "        price = \"MBA\"\n",
    "    )\n",
    "    response = session.get(url, params=params, headers = defs.SECURE_HEADER)\n",
    "    return response.status_code, response.json()\n",
    "\n",
    "def get_candles_df(json_response):\n",
    "    prices = ['mid', 'bid', 'ask'] \n",
    "    ohlc = ['o', 'h', 'l', 'c']\n",
    "    candle_data = []\n",
    "\n",
    "    for candle in json_response['candles']:\n",
    "        if candle['complete'] == False:\n",
    "            continue\n",
    "        new_dict = {}\n",
    "        new_dict['time'] = candle['time']\n",
    "        new_dict['volume'] = candle['volume']\n",
    "        for price in prices:\n",
    "            for oh in ohlc:\n",
    "                new_dict[f'{price}_{oh}'] = candle[price][oh]\n",
    "        candle_data.append(new_dict)\n",
    "    return pd.DataFrame.from_dict(candle_data)\n",
    "\n",
    "def save_file(candles_df, pair, granularity):\n",
    "    candles_df.to_pickle(f\"his_data/{pair}_{granularity}.pkl\")\n",
    "    \n",
    "def create_data(pair, granularity):\n",
    "    code, json_data = fetch_candles(pair, 4000, granularity)\n",
    "    if code != 200:\n",
    "        print(pair, \"Error\")\n",
    "        return \n",
    "    df = get_candles_df(json_data)\n",
    "    print(f\"{pair} loaded {df.shape[0]} candles from {df.time.min()} to {df.time.max()}\") \n",
    "    save_file(df, pair, granularity)"
   ]
  },
  {
   "cell_type": "code",
   "execution_count": 10,
   "metadata": {},
   "outputs": [
    {
     "name": "stdout",
     "output_type": "stream",
     "text": [
      "EUR_USD loaded 3999 candles from 2022-01-19T02:00:00.000000000Z to 2022-09-08T20:00:00.000000000Z\n",
      "EUR_GBP loaded 3999 candles from 2022-01-19T00:00:00.000000000Z to 2022-09-08T20:00:00.000000000Z\n",
      "EUR_JPY loaded 3999 candles from 2022-01-18T18:00:00.000000000Z to 2022-09-08T20:00:00.000000000Z\n",
      "EUR_CHF loaded 3999 candles from 2022-01-19T03:00:00.000000000Z to 2022-09-08T20:00:00.000000000Z\n",
      "EUR_NZD loaded 3999 candles from 2022-01-19T02:00:00.000000000Z to 2022-09-08T20:00:00.000000000Z\n",
      "EUR_CAD loaded 3999 candles from 2022-01-19T03:00:00.000000000Z to 2022-09-08T20:00:00.000000000Z\n",
      "USD_JPY loaded 3999 candles from 2022-01-19T02:00:00.000000000Z to 2022-09-08T20:00:00.000000000Z\n",
      "USD_CHF loaded 3999 candles from 2022-01-18T22:00:00.000000000Z to 2022-09-08T20:00:00.000000000Z\n",
      "USD_CAD loaded 3999 candles from 2022-01-19T03:00:00.000000000Z to 2022-09-08T20:00:00.000000000Z\n",
      "GBP_USD loaded 3999 candles from 2022-01-19T02:00:00.000000000Z to 2022-09-08T20:00:00.000000000Z\n",
      "GBP_JPY loaded 3999 candles from 2022-01-19T03:00:00.000000000Z to 2022-09-08T20:00:00.000000000Z\n",
      "GBP_CHF loaded 3999 candles from 2022-01-19T03:00:00.000000000Z to 2022-09-08T20:00:00.000000000Z\n",
      "GBP_NZD loaded 3999 candles from 2022-01-19T02:00:00.000000000Z to 2022-09-08T20:00:00.000000000Z\n",
      "GBP_CAD loaded 3999 candles from 2022-01-19T03:00:00.000000000Z to 2022-09-08T20:00:00.000000000Z\n",
      "CHF_JPY loaded 3999 candles from 2022-01-19T03:00:00.000000000Z to 2022-09-08T20:00:00.000000000Z\n",
      "NZD_USD loaded 3999 candles from 2022-01-18T21:00:00.000000000Z to 2022-09-08T20:00:00.000000000Z\n",
      "NZD_JPY loaded 3999 candles from 2022-01-19T02:00:00.000000000Z to 2022-09-08T20:00:00.000000000Z\n",
      "NZD_CHF loaded 3999 candles from 2022-01-18T20:00:00.000000000Z to 2022-09-08T20:00:00.000000000Z\n",
      "NZD_CAD loaded 3999 candles from 2022-01-19T02:00:00.000000000Z to 2022-09-08T20:00:00.000000000Z\n",
      "CAD_JPY loaded 3999 candles from 2022-01-19T03:00:00.000000000Z to 2022-09-08T20:00:00.000000000Z\n",
      "CAD_CHF loaded 3999 candles from 2022-01-19T03:00:00.000000000Z to 2022-09-08T20:00:00.000000000Z\n"
     ]
    }
   ],
   "source": [
    "for p1 in our_curr:\n",
    "    for p2 in our_curr:\n",
    "        pair = f\"{p1}_{p2}\"\n",
    "        if pair in ins_df.name.unique():\n",
    "            create_data(pair, \"H1\")"
   ]
  },
  {
   "cell_type": "code",
   "execution_count": null,
   "metadata": {},
   "outputs": [],
   "source": []
  },
  {
   "cell_type": "code",
   "execution_count": null,
   "metadata": {},
   "outputs": [],
   "source": []
  }
 ],
 "metadata": {
  "kernelspec": {
   "display_name": "Python 3.9.12 ('venv': venv)",
   "language": "python",
   "name": "python3"
  },
  "language_info": {
   "codemirror_mode": {
    "name": "ipython",
    "version": 3
   },
   "file_extension": ".py",
   "mimetype": "text/x-python",
   "name": "python",
   "nbconvert_exporter": "python",
   "pygments_lexer": "ipython3",
   "version": "3.9.12"
  },
  "orig_nbformat": 4,
  "vscode": {
   "interpreter": {
    "hash": "940e9e327257ea83807467358131658153c86dbf093bf5d00c5b165a4c8e79ba"
   }
  }
 },
 "nbformat": 4,
 "nbformat_minor": 2
}
